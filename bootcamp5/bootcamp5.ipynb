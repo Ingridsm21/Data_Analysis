{
 "cells": [
  {
   "cell_type": "markdown",
   "metadata": {},
   "source": [
    "## All you need is ♥️… And a pet!\n",
    "\n",
    "Some of you didn't get any flower on Valentine's day but you worry not, Jerry has a solution for you. Get ready to adopt a pet!\n",
    "\n",
    "<img src=\"img/dataset-cover.jpg\" width=\"920\">\n",
    "\n",
    "Here we are going to build a classifier to predict whether an animal from an animal shelter will be adopted or not (aac_intakes_outcomes.csv, available at: https://www.kaggle.com/aaronschlegel/austin-animal-center-shelter-intakes-and-outcomes/version/1#aac_intakes_outcomes.csv). You will be working with the following features:\n",
    "\n",
    "1. *animal_type:* Type of animal. May be one of 'cat', 'dog', 'bird', etc.\n",
    "2. *intake_year:* Year of intake\n",
    "3. *intake_condition:* The intake condition of the animal. Can be one of 'normal', 'injured', 'sick', etc.\n",
    "4. *intake_number:* The intake number denoting the number of occurrences the animal has been brought into the shelter. Values higher than 1 indicate the animal has been taken into the shelter on more than one occasion.\n",
    "5. *intake_type:* The type of intake, for example, 'stray', 'owner surrender', etc.\n",
    "6. *sex_upon_intake:* The gender of the animal and if it has been spayed or neutered at the time of intake\n",
    "7. *age_upon\\_intake_(years):* The age of the animal upon intake represented in years\n",
    "8. *time_in_shelter_days:* Numeric value denoting the number of days the animal remained at the shelter from intake to outcome.\n",
    "9. *sex_upon_outcome:* The gender of the animal and if it has been spayed or neutered at time of outcome\n",
    "10. *age_upon\\_outcome_(years):* The age of the animal upon outcome represented in years\n",
    "11. *outcome_type:* The outcome type. Can be one of ‘adopted’, ‘transferred’, etc."
   ]
  },
  {
   "cell_type": "code",
   "execution_count": 19,
   "metadata": {},
   "outputs": [],
   "source": [
    "import numpy as np\n",
    "import matplotlib.pyplot as plt\n",
    "import pandas as pd\n",
    "import scipy as sp\n",
    "from itertools import combinations \n",
    "import ast\n",
    "from sklearn.linear_model import LogisticRegression\n",
    "import seaborn as sn\n",
    "%matplotlib inline\n",
    "\n",
    "data_folder = './data/'"
   ]
  },
  {
   "cell_type": "markdown",
   "metadata": {},
   "source": [
    "### A) Load the dataset and convert categorical features to a suitable numerical representation (use dummy-variable encoding). \n",
    "- Split the data into a training set (80%) and a test set (20%). Pair each feature vector with the corresponding label, i.e., whether the outcome_type is adoption or not. \n",
    "- Standardize the values of each feature in the data to have mean 0 and variance 1.\n",
    "\n",
    "The use of external libraries is not permitted in part A, except for numpy and pandas. \n",
    "If you notice missing values in the imported entries, you have to deal with them. Make informed choices."
   ]
  },
  {
   "cell_type": "code",
   "execution_count": 20,
   "metadata": {},
   "outputs": [],
   "source": [
    "columns = ['animal_type', 'intake_year', 'intake_condition', 'intake_number', 'intake_type', 'sex_upon_intake', \\\n",
    "          'age_upon_intake_(years)', 'time_in_shelter_days', 'sex_upon_outcome', 'age_upon_outcome_(years)', \\\n",
    "          'outcome_type']\n",
    "original_data = pd.read_csv(data_folder+'aac_intakes_outcomes.csv', usecols=columns)"
   ]
  },
  {
   "cell_type": "code",
   "execution_count": 21,
   "metadata": {
    "scrolled": true
   },
   "outputs": [
    {
     "name": "stdout",
     "output_type": "stream",
     "text": [
      "The length of the data with all rows is : 79672\n",
      "The length of the data without the rows with nan value is: 79661\n"
     ]
    }
   ],
   "source": [
    "print('The length of the data with all rows is : {}'.format(len(original_data)))\n",
    "original_data.dropna(inplace=True)\n",
    "print('The length of the data without the rows with nan value is: {}'.format(len(original_data)))"
   ]
  },
  {
   "cell_type": "code",
   "execution_count": 35,
   "metadata": {},
   "outputs": [
    {
     "name": "stdout",
     "output_type": "stream",
     "text": [
      "       outcome_type  age_upon_outcome_(years)  age_upon_intake_(years)  \\\n",
      "0                 0                 10.000000                10.000000   \n",
      "1                 0                  7.000000                 7.000000   \n",
      "2                 0                  6.000000                 6.000000   \n",
      "3                 0                 10.000000                10.000000   \n",
      "4                 0                 16.000000                16.000000   \n",
      "...             ...                       ...                      ...   \n",
      "79667             0                  0.038356                 0.038356   \n",
      "79668             0                  2.000000                 2.000000   \n",
      "79669             0                  1.000000                 1.000000   \n",
      "79670             0                  0.821918                 0.410959   \n",
      "79671             0                 10.000000                10.000000   \n",
      "\n",
      "       intake_year  intake_number  time_in_shelter_days  animal_type_Cat  \\\n",
      "0             2017            1.0              0.588194            False   \n",
      "1             2014            2.0              1.259722            False   \n",
      "2             2014            3.0              1.113889            False   \n",
      "3             2014            1.0              4.970139            False   \n",
      "4             2013            1.0              0.119444            False   \n",
      "...            ...            ...                   ...              ...   \n",
      "79667         2018            1.0              0.077083             True   \n",
      "79668         2018            1.0              0.053472            False   \n",
      "79669         2018            1.0              0.047917            False   \n",
      "79670         2018            1.0              1.762500            False   \n",
      "79671         2018            1.0              0.813889            False   \n",
      "\n",
      "       animal_type_Dog  animal_type_Other  intake_condition_Feral  ...  \\\n",
      "0                 True              False                   False  ...   \n",
      "1                 True              False                   False  ...   \n",
      "2                 True              False                   False  ...   \n",
      "3                 True              False                   False  ...   \n",
      "4                 True              False                   False  ...   \n",
      "...                ...                ...                     ...  ...   \n",
      "79667            False              False                   False  ...   \n",
      "79668            False               True                   False  ...   \n",
      "79669            False               True                   False  ...   \n",
      "79670             True              False                   False  ...   \n",
      "79671             True              False                   False  ...   \n",
      "\n",
      "       intake_type_Stray  intake_type_Wildlife  sex_upon_intake_Intact Male  \\\n",
      "0                   True                 False                        False   \n",
      "1                  False                 False                        False   \n",
      "2                  False                 False                        False   \n",
      "3                  False                 False                        False   \n",
      "4                  False                 False                        False   \n",
      "...                  ...                   ...                          ...   \n",
      "79667               True                 False                        False   \n",
      "79668              False                  True                        False   \n",
      "79669              False                  True                        False   \n",
      "79670               True                 False                         True   \n",
      "79671               True                 False                        False   \n",
      "\n",
      "       sex_upon_intake_Neutered Male  sex_upon_intake_Spayed Female  \\\n",
      "0                               True                          False   \n",
      "1                               True                          False   \n",
      "2                               True                          False   \n",
      "3                               True                          False   \n",
      "4                               True                          False   \n",
      "...                              ...                            ...   \n",
      "79667                          False                          False   \n",
      "79668                          False                          False   \n",
      "79669                          False                          False   \n",
      "79670                          False                          False   \n",
      "79671                          False                           True   \n",
      "\n",
      "       sex_upon_intake_Unknown  sex_upon_outcome_Intact Male  \\\n",
      "0                        False                         False   \n",
      "1                        False                         False   \n",
      "2                        False                         False   \n",
      "3                        False                         False   \n",
      "4                        False                         False   \n",
      "...                        ...                           ...   \n",
      "79667                     True                         False   \n",
      "79668                     True                         False   \n",
      "79669                     True                         False   \n",
      "79670                    False                          True   \n",
      "79671                    False                         False   \n",
      "\n",
      "       sex_upon_outcome_Neutered Male  sex_upon_outcome_Spayed Female  \\\n",
      "0                                True                           False   \n",
      "1                                True                           False   \n",
      "2                                True                           False   \n",
      "3                                True                           False   \n",
      "4                                True                           False   \n",
      "...                               ...                             ...   \n",
      "79667                           False                           False   \n",
      "79668                           False                           False   \n",
      "79669                           False                           False   \n",
      "79670                           False                           False   \n",
      "79671                           False                            True   \n",
      "\n",
      "       sex_upon_outcome_Unknown  \n",
      "0                         False  \n",
      "1                         False  \n",
      "2                         False  \n",
      "3                         False  \n",
      "4                         False  \n",
      "...                         ...  \n",
      "79667                      True  \n",
      "79668                      True  \n",
      "79669                      True  \n",
      "79670                     False  \n",
      "79671                     False  \n",
      "\n",
      "[79661 rows x 28 columns]\n"
     ]
    }
   ],
   "source": [
    "categorical_features = ['animal_type', 'intake_condition', 'intake_type', 'sex_upon_intake', 'sex_upon_outcome']\n",
    "\n",
    "data_encoded = pd.get_dummies(original_data,columns=categorical_features, drop_first=True )\n",
    "data_encoded['outcome_type'] = (data_encoded['outcome_type'] == 'Adoption').astype(int)\n",
    "\n",
    "print(data_encoded)\n"
   ]
  },
  {
   "cell_type": "markdown",
   "metadata": {},
   "source": [
    "The code below can used to split the data to training/testing. The `data_to_split` should be the clean dataframe from A)"
   ]
  },
  {
   "cell_type": "code",
   "execution_count": null,
   "metadata": {},
   "outputs": [
    {
     "name": "stdout",
     "output_type": "stream",
     "text": [
      "age_upon_outcome_(years)             2.142107\n",
      "age_upon_intake_(years)              2.107231\n",
      "intake_year                       2015.436030\n",
      "intake_number                        1.127267\n",
      "time_in_shelter_days                16.837285\n",
      "animal_type_Cat                      0.371004\n",
      "animal_type_Dog                      0.568351\n",
      "animal_type_Other                    0.056233\n",
      "intake_condition_Feral               0.001095\n",
      "intake_condition_Injured             0.050444\n",
      "intake_condition_Normal              0.878397\n",
      "intake_condition_Nursing             0.024674\n",
      "intake_condition_Other               0.001846\n",
      "intake_condition_Pregnant            0.000610\n",
      "intake_condition_Sick                0.039006\n",
      "intake_type_Owner Surrender          0.188522\n",
      "intake_type_Public Assist            0.062788\n",
      "intake_type_Stray                    0.701860\n",
      "intake_type_Wildlife                 0.043763\n",
      "sex_upon_intake_Intact Male          0.317134\n",
      "sex_upon_intake_Neutered Male        0.159655\n",
      "sex_upon_intake_Spayed Female        0.139612\n",
      "sex_upon_intake_Unknown              0.085851\n",
      "sex_upon_outcome_Intact Male         0.122276\n",
      "sex_upon_outcome_Neutered Male       0.354513\n",
      "sex_upon_outcome_Spayed Female       0.320326\n",
      "sex_upon_outcome_Unknown             0.085851\n",
      "dtype: float64\n",
      "age_upon_outcome_(years)           2.906942\n",
      "age_upon_intake_(years)            2.899930\n",
      "intake_year                        1.303818\n",
      "intake_number                      0.459064\n",
      "time_in_shelter_days              42.037500\n",
      "animal_type_Cat                    0.483077\n",
      "animal_type_Dog                    0.495310\n",
      "animal_type_Other                  0.230372\n",
      "intake_condition_Feral             0.033077\n",
      "intake_condition_Injured           0.218860\n",
      "intake_condition_Normal            0.326829\n",
      "intake_condition_Nursing           0.155131\n",
      "intake_condition_Other             0.042929\n",
      "intake_condition_Pregnant          0.024695\n",
      "intake_condition_Sick              0.193611\n",
      "intake_type_Owner Surrender        0.391131\n",
      "intake_type_Public Assist          0.242584\n",
      "intake_type_Stray                  0.457445\n",
      "intake_type_Wildlife               0.204568\n",
      "sex_upon_intake_Intact Male        0.465364\n",
      "sex_upon_intake_Neutered Male      0.366288\n",
      "sex_upon_intake_Spayed Female      0.346586\n",
      "sex_upon_intake_Unknown            0.280146\n",
      "sex_upon_outcome_Intact Male       0.327606\n",
      "sex_upon_outcome_Neutered Male     0.478369\n",
      "sex_upon_outcome_Spayed Female     0.466605\n",
      "sex_upon_outcome_Unknown           0.280146\n",
      "dtype: float64\n"
     ]
    }
   ],
   "source": [
    "data_to_split = data_encoded\n",
    "\n",
    "def split_set(data_to_split, ratio=0.8):\n",
    "    mask = np.random.rand(len(data_to_split)) < ratio\n",
    "    return [data_to_split[mask].reset_index(drop=True), data_to_split[~mask].reset_index(drop=True)]\n",
    "\n",
    "[train, test] = split_set(data_to_split)\n",
    "\n",
    "X_train, y_train = train.drop(columns=['outcome_type']), train['outcome_type']\n",
    "X_test, y_test = test.drop(columns=['outcome_type']), test['outcome_type']\n",
    "\n",
    "# Standardize features using training set statistics\n",
    "mean = X_train.mean()\n",
    "std = X_train.std()\n",
    "X_train = (X_train - mean) / std\n",
    "X_test = (X_test - mean) / std  "
   ]
  },
  {
   "cell_type": "markdown",
   "metadata": {},
   "source": [
    "### B) Train a logistic regression classifier on your training set. Logistic regression returns probabilities as predictions, so in order to arrive at a binary prediction, you need to put a threshold on the predicted probabilities. \n",
    "- For the decision threshold of 0.5, present the performance of your classifier on the test set by displaying the confusion matrix. Based on the confusion matrix, manually calculate accuracy, precision, recall, and F1-score with respect to the positive and the negative class. \n",
    "\n",
    "- The features in the testing set must be matched with the traning set.\n",
    "\n",
    "- You can use the functions below to compute and plot a confusion matrix as well as compute all relevant scores"
   ]
  },
  {
   "cell_type": "code",
   "execution_count": 24,
   "metadata": {
    "jupyter": {
     "outputs_hidden": true
    }
   },
   "outputs": [],
   "source": [
    "def compute_confusion_matrix(true_label, prediction_proba, decision_threshold=0.5): \n",
    "    \n",
    "    predict_label = (prediction_proba[:,1]>decision_threshold).astype(int)   \n",
    "                                                                                                                       \n",
    "    TP = np.sum(np.logical_and(predict_label==1, true_label==1))\n",
    "    TN = np.sum(np.logical_and(predict_label==0, true_label==0))\n",
    "    FP = np.sum(np.logical_and(predict_label==1, true_label==0))\n",
    "    FN = np.sum(np.logical_and(predict_label==0, true_label==1))\n",
    "    \n",
    "    confusion_matrix = np.asarray([[TP, FP],\n",
    "                                    [FN, TN]])\n",
    "    return confusion_matrix\n",
    "\n",
    "\n",
    "def plot_confusion_matrix(confusion_matrix):\n",
    "    [[TP, FP],[FN, TN]] = confusion_matrix\n",
    "    label = np.asarray([['TP {}'.format(TP), 'FP {}'.format(FP)],\n",
    "                        ['FN {}'.format(FN), 'TN {}'.format(TN)]])\n",
    "    \n",
    "    df_cm = pd.DataFrame(confusion_matrix, index=['Yes', 'No'], columns=['Positive', 'Negative']) \n",
    "    \n",
    "    return sn.heatmap(df_cm, cmap='YlOrRd', annot=label, annot_kws={\"size\": 16}, cbar=False, fmt='')\n",
    "\n",
    "\n",
    "def compute_all_score(confusion_matrix, t=0.5):\n",
    "    [[TP, FP],[FN, TN]] = confusion_matrix.astype(float)\n",
    "    \n",
    "    accuracy =  (TP+TN)/np.sum(confusion_matrix)\n",
    "    \n",
    "    precision_positive = TP/(TP+FP) if (TP+FP) !=0 else np.nan\n",
    "    precision_negative = TN/(TN+FN) if (TN+FN) !=0 else np.nan\n",
    "    \n",
    "    recall_positive = TP/(TP+FN) if (TP+FN) !=0 else np.nan\n",
    "    recall_negative = TN/(TN+FP) if (TN+FP) !=0 else np.nan\n",
    "\n",
    "    F1_score_positive = 2 *(precision_positive*recall_positive)/(precision_positive+recall_positive) if (precision_positive+recall_positive) !=0 else np.nan\n",
    "    F1_score_negative = 2 *(precision_negative*recall_negative)/(precision_negative+recall_negative) if (precision_negative+recall_negative) !=0 else np.nan\n",
    "\n",
    "    return [t, accuracy, precision_positive, recall_positive, F1_score_positive, precision_negative, recall_negative, F1_score_negative]"
   ]
  },
  {
   "cell_type": "code",
   "execution_count": 25,
   "metadata": {},
   "outputs": [],
   "source": [
    "#fit a cute logistic regression"
   ]
  },
  {
   "cell_type": "code",
   "execution_count": 26,
   "metadata": {},
   "outputs": [],
   "source": [
    "#evaluate the predictions"
   ]
  },
  {
   "cell_type": "code",
   "execution_count": 27,
   "metadata": {},
   "outputs": [],
   "source": [
    "#show confusion matrix and scores"
   ]
  },
  {
   "cell_type": "markdown",
   "metadata": {},
   "source": [
    "### C) Vary the value of the threshold in the range from 0 to 1 and visualize the value of accuracy, precision, recall  and F1-score (with respect to both classes) as a function of the threshold.\n",
    "\n",
    "Here we expect one plot for the accuracy and then 2 sets of 3 plots for each of the classes, i.e. precision, recall and F1 score for the positive class and precision, recall and F1 score for the negative class.\n",
    "\n",
    "### Comment on the results. What do you observe?\n",
    "\n",
    "In clinic 3, we will focus on the AUROC curve."
   ]
  },
  {
   "cell_type": "code",
   "execution_count": 28,
   "metadata": {
    "jupyter": {
     "outputs_hidden": true
    }
   },
   "outputs": [],
   "source": [
    "#show cute plots here (in total 7 plots)"
   ]
  },
  {
   "cell_type": "markdown",
   "metadata": {},
   "source": [
    "// comments here //"
   ]
  },
  {
   "cell_type": "markdown",
   "metadata": {},
   "source": [
    "### D) Plot in a bar chart the coefficients of the logistic regression sorted by their contribution to the prediction.\n",
    "\n",
    "### Interpret the results of the coefficients"
   ]
  },
  {
   "cell_type": "code",
   "execution_count": 29,
   "metadata": {},
   "outputs": [],
   "source": [
    "#show the bartplot here"
   ]
  },
  {
   "cell_type": "markdown",
   "metadata": {},
   "source": [
    "// comments here //"
   ]
  }
 ],
 "metadata": {
  "kernelspec": {
   "display_name": "base",
   "language": "python",
   "name": "python3"
  },
  "language_info": {
   "codemirror_mode": {
    "name": "ipython",
    "version": 3
   },
   "file_extension": ".py",
   "mimetype": "text/x-python",
   "name": "python",
   "nbconvert_exporter": "python",
   "pygments_lexer": "ipython3",
   "version": "3.11.7"
  },
  "varInspector": {
   "cols": {
    "lenName": 16,
    "lenType": 16,
    "lenVar": 40
   },
   "kernels_config": {
    "python": {
     "delete_cmd_postfix": "",
     "delete_cmd_prefix": "del ",
     "library": "var_list.py",
     "varRefreshCmd": "print(var_dic_list())"
    },
    "r": {
     "delete_cmd_postfix": ") ",
     "delete_cmd_prefix": "rm(",
     "library": "var_list.r",
     "varRefreshCmd": "cat(var_dic_list()) "
    }
   },
   "types_to_exclude": [
    "module",
    "function",
    "builtin_function_or_method",
    "instance",
    "_Feature"
   ],
   "window_display": false
  }
 },
 "nbformat": 4,
 "nbformat_minor": 4
}
