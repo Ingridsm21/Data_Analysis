{
 "cells": [
  {
   "cell_type": "markdown",
   "id": "895feafc",
   "metadata": {},
   "source": [
    "(Placeholder for your group #)\n",
    "\n",
    "(Placeholder for your names)\n",
    "Ingrid Salvador Maldonado, Miriam Espinosa Solana\n",
    "(Placeholder for your i-numbers)\n",
    "i6314966, i6320314"
   ]
  },
  {
   "cell_type": "markdown",
   "id": "08c85891",
   "metadata": {},
   "source": [
    "**Use of genAI tools (e.g. chatGPT), websites (e.g. stackoverflow)**: *list websites where you found code (or other info) as well as include information on how you used genAI tools*"
   ]
  },
  {
   "cell_type": "markdown",
   "id": "6b08998c",
   "metadata": {},
   "source": [
    "# Data Analysis, Clinic 2\n",
    "\n",
    "By completing and delivering the clinic tasks you will know how to :\n",
    "\n",
    "- Preprocess data and make it amenable to statistical analysis and machine learning models;\n",
    "- Train and test out-of-the-box machine learning models in `sklearn`;\n",
    "- Carry out simple logistic regression analysis;\n",
    "- Evaluate classification models based on different metrics;\n",
    "- Assess how your model performance can improve\n",
    "- Reflect on the greater impact of the models you develop\n",
    "\n",
    "---\n",
    "\n",
    "## Important Dates\n",
    "\n",
    "- Homework release: Fri, 7th Feb\n",
    "- **Homework due**: Mon, 17th Feb late night (wildcards possible, apply to the group)\n",
    "\n",
    "---\n",
    "\n",
    "##  Some rules\n",
    "\n",
    "* We have provided `TODO` comments in the code cells that you need to fill out with your solutions. For some questions, we have also provided `Your response` comments, where you should provide a textual answer.\n",
    "\n",
    "* You are allowed to use any built-in Python library that is included in the `requirements.txt` for this homework. If you use any additional library, this may complicate the grading process, and we reserve the right to penalize your grade for unnecessary complexity of the solution. All the questions can be solved with the libraries in `requirements.txt`.\n",
    "\n",
    "* Make sure that you include a proper amount/mix of comments, results and code. More specifically, be sure to provide a concise textual description of your thought process, the assumptions you made, the solution you implemented, and explanations for your answers. A notebook that only has code cells will not suffice. To avoid confusion: use short comments for longer code answers.\n",
    "\n",
    "* Back up any hypotheses and claims with data, since this is an important aspect of the course.\n",
    "\n",
    "* Please write all your comments in English, and use meaningful variable names (as possible) in your code. \n",
    "\n",
    "* In the end, make sure that all cells are executed properly and everything you need to show is in your (execucted) notebook. We will not run your notebook for you! \n",
    "\n",
    "- In continuation to the previous point, interactive plots, such as those generated using the ‘plotly’ package, should be strictly avoided! Make sure to print results and/or dataframes that confirm you have properly addressed the task.\n",
    "\n",
    "* You are asked to deliver **only your executed notebook file, .ipnyb** and nothing else. If you deliver other files, we will not grade anything.\n",
    "\n",
    "* Honor code applies to these tasks. If you are not certain about an action, consult with Jerry.\n",
    "\n",
    "**A Note from Jerry on using Language Models (LMs)**\n",
    "\n",
    "If you try hard enough, you will likely get away with cheating (that does not only apply to LMs). Fortunately, my job is not to police, but rather to educate you. So, please consider the following:\n",
    "\n",
    "I assume that you are taking this course to learn something! LMs are not always right ([they often fail in silly ways](https://community.openai.com/t/why-9-11-is-larger-than-9-9-incredible/869824/4)). This course should prepare you to detect when they are wrong!\n",
    "\n",
    "I don't restrict the use of LMs because I see the value of being helped when coding (esp. in the context of pandas dataframes nightmare :)). Based on what we saw last year in your notebooks, it's pretty clear when you \"copy\" some code and then you struggle to interpret the results. This is the essence of this course and of the skills you should try build for yourself: Many people can run fancy models these days but not many people can interpret the results correctly. Try to be the latter ones.\n",
    "\n",
    "\n",
    "\n",
    "---\n",
    "\n",
    "\n",
    "## Grading \n",
    "- The homework has a total of 100 points, distributed as follows:\n",
    "    - Part 1: Data Preprocessing (20 points)\n",
    "    - Part 2: Linear Regression (30 points)\n",
    "    - Part 3: Supervised Learning (40 points)\n",
    "    - Part 4: The Aftermath (5 points)"
   ]
  },
  {
   "cell_type": "markdown",
   "id": "7c6f0a9b",
   "metadata": {},
   "source": [
    "## Context\n",
    "\n",
    "Within DACS, you are excited to start an internship as a data scientist.\n",
    "After rounds of interviews, you have been selected to work with the biggest car dealership in the Netherlands !\n",
    "\n",
    "Your mentor at the company Jerasimosu, has explained to you that the company is interested in a pricing model for used cars. \n",
    "\n",
    "- Jerasimosu: \"We have a lot of used cars in our inventory, and we need to determine the price at which we should sell these cars. We have some ideas about the factors that influence the price of a used car, but so far we have just been using our experience and intuition to determine the price of a used car. Sometimes it works, but probably we can do better and a more data-driven approach would also help our new employees in the sales team as they have less experience.\"\n",
    "\n",
    "- You: \"That sounds like a great project! What kind of data do we have?\"\n",
    "\n",
    "- Jerasimosu: \"We sell all kinds of cars here, but maybe we can start with a specific brand and model. For example, the Toyota Corolla is the best-selling car worldwide in 2023, and we have a lot of data on it. We can start by analyzing the data on used Toyota Corolla cars. If it works well, we can extend the analysis to other brands.\"\n",
    "\n",
    "The dataset contains the following columns:\n",
    "\n",
    "- `Age`: Age of the car in months.\n",
    "- `Mileage`: Number of distance the car has been driven. (km or miles)\n",
    "- `FuelType`: Fuel type of the car (Petrol, Diesel, or CNG)\n",
    "- `HP`: Horsepower\n",
    "- `MetColor`: Is the color of the car metallic? (Yes=1, No=0)\n",
    "- `Automatic`: Is the car automatic? (Yes=1, No=0)\n",
    "- `CC`: Cylinder volume in cubic centimeters\n",
    "- `Doors`: Number of doors\n",
    "- `Weight`: Weight of the car in kilograms\n",
    "- `Price`: Price of the car in euros\n",
    "\n",
    "\n",
    "## Data\n",
    "\n",
    "The data is provided in the `data` folder and it contains the following 3 csv files:\n",
    "- `Task1-2.ToyotaCorolla.csv` for Part 1 and Part 2\n",
    "- `Task3.ToyotaCorolla_sales_3months.csv` for Part 3\n",
    "\n",
    "You should not use any other data source for this homework.\n",
    "\n",
    "For some questions, you might need to slightly modify the data. But overall, you should avoid making any major changes to the data, which may affect your analysis.\n",
    "\n",
    "## References:\n",
    "\n",
    "The data is based on the ToyotaCorolla dataset from the UCI Machine Learning Repository [here](https://archive.ics.uci.edu/ml/datasets/Toyota+Corolla).\n",
    "We have made some modifications to the original dataset, so please use the data provided in the `data` folder in the course repo."
   ]
  },
  {
   "cell_type": "markdown",
   "id": "b36859d6",
   "metadata": {},
   "source": [
    "## Task 1 (20 pts) - Get to know the data"
   ]
  },
  {
   "cell_type": "code",
   "execution_count": 1,
   "id": "ccd6fa08",
   "metadata": {},
   "outputs": [],
   "source": [
    "import pandas as pd\n",
    "import numpy as np\n",
    "import matplotlib.pyplot as plt\n",
    "import statsmodels.api as sm\n",
    "import random\n",
    "import sklearn\n",
    "\n",
    "# fix random seed for reproducibility\n",
    "np.random.seed(42)\n",
    "random.seed(42)"
   ]
  },
  {
   "cell_type": "markdown",
   "id": "f502c087",
   "metadata": {},
   "source": [
    "\n",
    "**1.1 (2 pts)**: Load the data from the file `Task1-2.ToyotaCorolla-raw.csv` into a pandas DataFrame. Display the first 5 rows of the DataFrame. Hint: A naive loading of the data will raise an error. You will need to figure out how to load the data correctly. (Hint: localise which row is causing the error)"
   ]
  },
  {
   "cell_type": "code",
   "execution_count": 2,
   "id": "23cf0212",
   "metadata": {},
   "outputs": [
    {
     "data": {
      "text/html": [
       "<div>\n",
       "<style scoped>\n",
       "    .dataframe tbody tr th:only-of-type {\n",
       "        vertical-align: middle;\n",
       "    }\n",
       "\n",
       "    .dataframe tbody tr th {\n",
       "        vertical-align: top;\n",
       "    }\n",
       "\n",
       "    .dataframe thead th {\n",
       "        text-align: right;\n",
       "    }\n",
       "</style>\n",
       "<table border=\"1\" class=\"dataframe\">\n",
       "  <thead>\n",
       "    <tr style=\"text-align: right;\">\n",
       "      <th></th>\n",
       "      <th>Price</th>\n",
       "      <th>Age</th>\n",
       "      <th>Mileage</th>\n",
       "      <th>FuelType</th>\n",
       "      <th>HP</th>\n",
       "      <th>MetColor</th>\n",
       "      <th>Automatic</th>\n",
       "      <th>CC</th>\n",
       "      <th>Doors</th>\n",
       "      <th>Weight</th>\n",
       "      <th>Currency</th>\n",
       "    </tr>\n",
       "  </thead>\n",
       "  <tbody>\n",
       "    <tr>\n",
       "      <th>0</th>\n",
       "      <td>13500.0</td>\n",
       "      <td>23</td>\n",
       "      <td>46986.0</td>\n",
       "      <td>Diesel</td>\n",
       "      <td>90</td>\n",
       "      <td>1</td>\n",
       "      <td>0</td>\n",
       "      <td>2000</td>\n",
       "      <td>3</td>\n",
       "      <td>1165</td>\n",
       "      <td>EURO</td>\n",
       "    </tr>\n",
       "    <tr>\n",
       "      <th>1</th>\n",
       "      <td>11878.0</td>\n",
       "      <td>23</td>\n",
       "      <td>72937.0</td>\n",
       "      <td>Diesel</td>\n",
       "      <td>90</td>\n",
       "      <td>1</td>\n",
       "      <td>0</td>\n",
       "      <td>2000</td>\n",
       "      <td>3</td>\n",
       "      <td>1165</td>\n",
       "      <td>CHF</td>\n",
       "    </tr>\n",
       "    <tr>\n",
       "      <th>2</th>\n",
       "      <td>12050.0</td>\n",
       "      <td>24</td>\n",
       "      <td>41711.0</td>\n",
       "      <td>Diesel</td>\n",
       "      <td>90</td>\n",
       "      <td>1</td>\n",
       "      <td>0</td>\n",
       "      <td>2000</td>\n",
       "      <td>3</td>\n",
       "      <td>1165</td>\n",
       "      <td>CHF</td>\n",
       "    </tr>\n",
       "    <tr>\n",
       "      <th>3</th>\n",
       "      <td>12914.0</td>\n",
       "      <td>26</td>\n",
       "      <td>48000.0</td>\n",
       "      <td>Diesel</td>\n",
       "      <td>90</td>\n",
       "      <td>0</td>\n",
       "      <td>0</td>\n",
       "      <td>2000</td>\n",
       "      <td>3</td>\n",
       "      <td>1165</td>\n",
       "      <td>CHF</td>\n",
       "    </tr>\n",
       "    <tr>\n",
       "      <th>4</th>\n",
       "      <td>11878.0</td>\n",
       "      <td>30</td>\n",
       "      <td>38500.0</td>\n",
       "      <td>Diesel</td>\n",
       "      <td>90</td>\n",
       "      <td>0</td>\n",
       "      <td>0</td>\n",
       "      <td>2000</td>\n",
       "      <td>3</td>\n",
       "      <td>1170</td>\n",
       "      <td>CHF</td>\n",
       "    </tr>\n",
       "  </tbody>\n",
       "</table>\n",
       "</div>"
      ],
      "text/plain": [
       "     Price  Age  Mileage FuelType  HP  MetColor  Automatic    CC  Doors  \\\n",
       "0  13500.0   23  46986.0   Diesel  90         1          0  2000      3   \n",
       "1  11878.0   23  72937.0   Diesel  90         1          0  2000      3   \n",
       "2  12050.0   24  41711.0   Diesel  90         1          0  2000      3   \n",
       "3  12914.0   26  48000.0   Diesel  90         0          0  2000      3   \n",
       "4  11878.0   30  38500.0   Diesel  90         0          0  2000      3   \n",
       "\n",
       "   Weight Currency  \n",
       "0    1165     EURO  \n",
       "1    1165      CHF  \n",
       "2    1165      CHF  \n",
       "3    1165      CHF  \n",
       "4    1170      CHF  "
      ]
     },
     "execution_count": 2,
     "metadata": {},
     "output_type": "execute_result"
    }
   ],
   "source": [
    "#TODO\n",
    "\n",
    "import pandas as pd\n",
    "\n",
    "# Load datatset\n",
    "file_path = './data/Task1-2.ToyotaCorolla-raw.csv'\n",
    "\n",
    "# Read file and store lines\n",
    "with open(file_path, \"r\") as f:\n",
    "    lines = f.readlines()\n",
    "\n",
    "# Cleaning dataset\n",
    "cleaned_lines = []\n",
    "for line in lines:\n",
    "    # Remove \" \" present in lines\n",
    "    line = line.replace('\"','')\n",
    "    line = line.replace('£', '')\n",
    "    categories = line.strip().split(\",\")\n",
    "    \n",
    "    if len(categories) == 12:\n",
    "        categories[0] = categories[0] + categories[1]\n",
    "        del categories[1]\n",
    "    \n",
    "    elif  len(categories) == 13:\n",
    "        categories[0] = categories[0] + categories[1]\n",
    "        #print(categories)\n",
    "        categories[0] = categories[0] + '.' + categories[2]\n",
    "        #print(categories)\n",
    "        #print(categories[1])\n",
    "        #print(categories[2])\n",
    "        del categories[1]\n",
    "        del categories[1]\n",
    "        \n",
    "    \n",
    "    if len(categories) == 11:\n",
    "        cleaned_lines.append(\",\".join(categories))\n",
    "\n",
    "cleaned_file_path = './data/Task1-2.ToyotaCorolla-cleaned.csv'\n",
    "\n",
    "with open(cleaned_file_path, \"w\") as f:\n",
    "    f.write(\"\\n\".join(cleaned_lines))\n",
    "\n",
    "df = pd.read_csv(cleaned_file_path)\n",
    "df.head(5)\n",
    "\n"
   ]
  },
  {
   "cell_type": "markdown",
   "id": "b0b5f57b",
   "metadata": {},
   "source": [
    "**1.2 (2 pts)**: Check if there are nan values in the Dataframe. If there are, try to find out which row is problematic and fix it. If you can't fix it, drop the row."
   ]
  },
  {
   "cell_type": "code",
   "execution_count": 3,
   "id": "a1197b0a",
   "metadata": {},
   "outputs": [
    {
     "name": "stdout",
     "output_type": "stream",
     "text": [
      "Price        False\n",
      "Age          False\n",
      "Mileage      False\n",
      "FuelType     False\n",
      "HP           False\n",
      "MetColor     False\n",
      "Automatic    False\n",
      "CC           False\n",
      "Doors        False\n",
      "Weight       False\n",
      "Currency     False\n",
      "dtype: bool\n"
     ]
    }
   ],
   "source": [
    "#TODO\n",
    "\n",
    "# Check Nan values per column\n",
    "nan_checked = df.isna().any()\n",
    "print(nan_checked)\n",
    "\n",
    "# Check Nan values per row\n",
    "#nan_checked = df.isna().any(axis=1)\n",
    "#print(rows_with_nan)\n",
    "\n",
    "\n",
    "\n"
   ]
  },
  {
   "cell_type": "markdown",
   "id": "303e0f76",
   "metadata": {},
   "source": [
    "**1.3 (4 pts): Compute the mean, median of the `Price` column.**\n",
    "\n",
    "- Compute the mean and median of the `Price` column. If you encounter error, try to understand why this error is happening and propose a solution.\n",
    "\n",
    "Hint: Is all values in the `Price` column numerical?\n"
   ]
  },
  {
   "cell_type": "code",
   "execution_count": 4,
   "id": "5d7b18e2",
   "metadata": {},
   "outputs": [
    {
     "name": "stdout",
     "output_type": "stream",
     "text": [
      "9440.213683077993\n",
      "8595.0\n"
     ]
    }
   ],
   "source": [
    "#TODO\n",
    "df_mean = df['Price'].mean()\n",
    "print(df_mean)\n",
    "\n",
    "df_median = df['Price'].median()\n",
    "print(df_median)\n"
   ]
  },
  {
   "cell_type": "markdown",
   "id": "62a727c9",
   "metadata": {},
   "source": [
    "**1.4 (4 pts): Convert Units**\n",
    "\n",
    "You notice that some prices are in CHF (Swiss Francs), while others are in EUR (Euros) or GBP (British Pounds). Additionally, for cars priced in GBP, the mileage is in miles rather than kilometers.\n",
    "\n",
    "For consistency, convert all prices to EUR and all distances to kilometers.\n",
    "\n",
    "- Exchange rates:\n",
    "  - 1 CHF = 1.05 EUR\n",
    "  - 1 GBP = 1.15 EUR\n",
    "  - 1 mile = 1.61 km\n",
    "\n",
    "Make the following conversions:\n",
    "1. Convert prices in CHF or GBP to EUR, rounding to the nearest integer.\n",
    "2. Convert distances in miles (for GBP cars) to kilometers, rounding to the nearest integer.\n",
    "3. Drop the 'Currency' column.\n",
    "4. Calculate the min, mean, median and max of the 'Price' and 'Distance' columns after the conversion."
   ]
  },
  {
   "cell_type": "code",
   "execution_count": 5,
   "id": "b4fc4a86",
   "metadata": {},
   "outputs": [
    {
     "name": "stdout",
     "output_type": "stream",
     "text": [
      "Min: 3946.0\n",
      "Mean: 9880.043871866295\n",
      "Median: 9025.0\n",
      "Max: 29478.0\n",
      "\n",
      "Distance Statistics:\n",
      "Min: 1.0\n",
      "Mean: 68540.10662020906\n",
      "Median: 63451.0\n",
      "Max: 243000.0\n"
     ]
    }
   ],
   "source": [
    "#TODO\n",
    "def convert_price(row):\n",
    "    if row['Currency'] == 'CHF':\n",
    "        return round(row['Price']*1.05)\n",
    "    elif row['Currency'] == 'GBP':\n",
    "        return round(row['Price']*1.15)\n",
    "    else:\n",
    "        return row['Price']\n",
    "\n",
    "\n",
    "def convert_distance(row):\n",
    "    try:\n",
    "        if row['Currency'] == 'GBP':\n",
    "            return round(row['Mileage'] * 1.61)  # Convert miles to kilometers\n",
    "        else:\n",
    "            return row['Mileage']\n",
    "    except Exception as e:\n",
    "        print(f\"Error processing row for Distance conversion: {row}\")\n",
    "        print(f\"Error: {e}\")\n",
    "\n",
    "df['Mileage'] = pd.to_numeric(df['Mileage'], errors='coerce')\n",
    "df['Price'] = df.apply(convert_price, axis=1)\n",
    "df['Mileage'] = df.apply(convert_distance, axis=1)\n",
    "df.drop(columns=['Currency'], inplace=True)\n",
    "\n",
    "# Calculations for 'Price'\n",
    "price_min = df['Price'].min()\n",
    "price_mean = df['Price'].mean()\n",
    "price_median = df['Price'].median()\n",
    "price_max = df['Price'].max()\n",
    "print(f\"Min: {price_min}\")\n",
    "print(f\"Mean: {price_mean}\")\n",
    "print(f\"Median: {price_median}\")\n",
    "print(f\"Max: {price_max}\")\n",
    "\n",
    "# Calculations for 'Distance\n",
    "distance_min = df['Mileage'].min()\n",
    "distance_mean = df['Mileage'].mean()\n",
    "distance_median = df['Mileage'].median()\n",
    "distance_max = df['Mileage'].max()\n",
    "print(\"\\nDistance Statistics:\")\n",
    "print(f\"Min: {distance_min}\")\n",
    "print(f\"Mean: {distance_mean}\")\n",
    "print(f\"Median: {distance_median}\")\n",
    "print(f\"Max: {distance_max}\")"
   ]
  },
  {
   "cell_type": "markdown",
   "id": "a0cf32bd",
   "metadata": {},
   "source": [
    "**1.5 (2 pts): Analyze Average Price**\n",
    "\n",
    "A.  Print the average price for each fuel type. Determine which fuel type has the highest average price.\n",
    "\n",
    "B.  Print the average price for different numbers of doors. Determine which number of doors has the highest average price."
   ]
  },
  {
   "cell_type": "code",
   "execution_count": 6,
   "id": "31e405cd",
   "metadata": {},
   "outputs": [
    {
     "name": "stdout",
     "output_type": "stream",
     "text": [
      "FuelType\n",
      "CNG        8752.176471\n",
      "Diesel    10366.490323\n",
      "Petrol     9835.561709\n",
      "Name: Price, dtype: float64\n",
      "Doors\n",
      "2     7347.000000\n",
      "3     9321.051447\n",
      "4     9024.297101\n",
      "5    10578.637982\n",
      "Name: Price, dtype: float64\n"
     ]
    }
   ],
   "source": [
    "#TODO\n",
    "\n",
    "# A\n",
    "df_fuel_type = df.groupby('FuelType')['Price'].mean()\n",
    "print(df_fuel_type)\n",
    "\n",
    "# B\n",
    "df_doors = df.groupby('Doors')['Price'].mean()\n",
    "print(df_doors)"
   ]
  },
  {
   "cell_type": "markdown",
   "id": "3900669c",
   "metadata": {},
   "source": [
    "- A. Diesel has the highest average price\n",
    "- B. 5 doors has the highest average price"
   ]
  },
  {
   "cell_type": "markdown",
   "id": "f9fa4698",
   "metadata": {},
   "source": [
    "**1.6 (2 pts): Relationship Between Car Age and Price**\n",
    "\n",
    "It is intuitive that an older car tends to be cheaper, and a car with more mileage might also be less expensive. \n",
    "\n",
    "To explore this intuition, create two scatter plots:\n",
    "1. Car Age vs Price\n",
    "2. Mileage vs Price"
   ]
  },
  {
   "cell_type": "code",
   "execution_count": 7,
   "id": "c1ac6aee",
   "metadata": {},
   "outputs": [
    {
     "data": {
      "image/png": "[encoded data removed]",
      "text/plain": [
       "<Figure size 1000x600 with 1 Axes>"
      ]
     },
     "metadata": {},
     "output_type": "display_data"
    },
    {
     "data": {
      "image/png": "[encoded data removed]",
      "text/plain": [
       "<Figure size 1000x600 with 1 Axes>"
      ]
     },
     "metadata": {},
     "output_type": "display_data"
    }
   ],
   "source": [
    "#TODO\n",
    "\n",
    "# Scatter plot: Car Age vs Price\n",
    "fig1, ax1 = plt.subplots(figsize=(10, 6))\n",
    "ax1.scatter(df['Age'],df['Price'])  # Add alpha for dots transparency??\n",
    "ax1.set_title('Car Age vs Price')\n",
    "ax1.set_xlabel('Car Age (years)')\n",
    "ax1.set_ylabel('Price (EUR)')\n",
    "plt.show()\n",
    "\n",
    "# Scatter plot: Mileage vs Price\n",
    "fig2, ax2 = plt.subplots(figsize=(10, 6))\n",
    "ax2.scatter(df['Mileage'],df['Price'])\n",
    "ax2.set_title('Mileage vs Price')\n",
    "ax2.set_xlabel('Mileage (km)')\n",
    "ax2.set_ylabel('Price (EUR)')\n",
    "plt.show()"
   ]
  },
  {
   "cell_type": "markdown",
   "id": "0f6531d1",
   "metadata": {},
   "source": [
    "**1.7 (4 pts): Correlation Between Price and Mileage**\n",
    "\n",
    "The relationship between car price and mileage appears non-linear, with a steeper price drop initially followed by a flatter curve.\n",
    "\n",
    "A.(2 pts)  Calculate both the Pearson and Spearman correlations between the price of the car and the distance driven.\n"
   ]
  },
  {
   "cell_type": "code",
   "execution_count": 8,
   "id": "718ca9aa",
   "metadata": {},
   "outputs": [
    {
     "name": "stdout",
     "output_type": "stream",
     "text": [
      "Pearson correlation: -0.5650134877355832\n",
      "Spearman correlation: -0.6063895382653919\n"
     ]
    }
   ],
   "source": [
    "#TODO\n",
    "\n",
    "# Pearson correlation\n",
    "pearson = df['Price'].corr(df['Mileage'], method='pearson')\n",
    "\n",
    "# Spearman correlation\n",
    "spearman = df['Price'].corr(df['Mileage'], method='spearman')\n",
    "\n",
    "print(f\"Pearson correlation: {pearson}\")\n",
    "print(f\"Spearman correlation: {spearman}\")\n"
   ]
  },
  {
   "cell_type": "markdown",
   "id": "ee3638a1",
   "metadata": {},
   "source": [
    "\n",
    "B.(2 pts)  Which correlation value is higher? Does this result align with your expectations?"
   ]
  },
  {
   "cell_type": "markdown",
   "id": "addf1654",
   "metadata": {},
   "source": [
    "Your Response:\n",
    "\n",
    "//**//"
   ]
  },
  {
   "cell_type": "markdown",
   "id": "4827d3d8",
   "metadata": {},
   "source": [
    "## Part 2 Linear Regression (30 pts)\n",
    "\n",
    "You want to build a linear regression model to predict the price of a car based on the features you have.\n",
    "\n"
   ]
  },
  {
   "cell_type": "markdown",
   "id": "058120ef",
   "metadata": {},
   "source": [
    "**2.0 (8 pts) Helper functions**\n",
    "\n",
    "Before building the linear regression model, you need to implement some helper functions.\n",
    "\n",
    " Implement the `accuracy` , `precision`, `recall` and `f1_score` functions. \n",
    "\n",
    "1. These functions should take in the true labels(`np.array`) and the predicted labels(`np.array`) and return the corresponding metric. \n",
    "2. They should follow the convention that the positive class is 1 and the negative class is 0.\n",
    "3. Apply the functions to the following data:\n",
    "\n",
    "```python\n",
    "true_labels = np.array([1, 0, 1, 1, 0, 1, 0, 0, 1, 0])\n",
    "predicted_labels = np.array([1, 1, 1, 1, 0, 0, 1, 0, 1, 0])\n",
    "```\n",
    "\n",
    "- Compare the results with the implementation in `sklearn` and see if they match."
   ]
  },
  {
   "cell_type": "code",
   "execution_count": 9,
   "id": "7e5cff50",
   "metadata": {},
   "outputs": [
    {
     "name": "stdout",
     "output_type": "stream",
     "text": [
      "Manual Metrics:\n",
      "Accuracy: 0.7\n",
      "Precision: 0.6666666666666666\n",
      "Recall: 0.8\n",
      "F1 Score: 0.7272727272727272\n",
      "\n",
      "Sklearn Metrics:\n",
      "Accuracy: 0.7\n",
      "Precision: 0.6666666666666666\n",
      "Recall: 0.8\n",
      "F1 Score: 0.7272727272727273\n",
      "\n",
      "Confusion Matrix:\n",
      "[[3 2]\n",
      " [1 4]]\n"
     ]
    }
   ],
   "source": [
    "#TODO\n",
    "from sklearn.metrics import accuracy_score, precision_score, recall_score, f1_score, confusion_matrix\n",
    "\n",
    "# Our own functions\n",
    "def accuracy(true_labels, predicted_labels):\n",
    "    return np.mean(true_labels == predicted_labels)\n",
    "\n",
    "def precision(true_labels, predicted_labels):\n",
    "    tp = np.sum((true_labels == 1) & (predicted_labels == 1))\n",
    "    fp = np.sum((true_labels == 0) & (predicted_labels == 1))\n",
    "    return tp / (tp + fp) if (tp + fp) > 0 else 0\n",
    "\n",
    "def recall(true_labels, predicted_labels):\n",
    "    tp = np.sum((true_labels == 1) & (predicted_labels == 1))\n",
    "    fn = np.sum((true_labels == 1) & (predicted_labels == 0))\n",
    "    return tp / (tp + fn) if (tp + fn) > 0 else 0\n",
    "\n",
    "def f1_score_custom(true_labels, predicted_labels):\n",
    "    p = precision(true_labels, predicted_labels)\n",
    "    r = recall(true_labels, predicted_labels)\n",
    "    return 2 * (p * r) / (p + r) if (p + r) > 0 else 0\n",
    "\n",
    "\n",
    "true_labels = np.array([1, 0, 1, 1, 0, 1, 0, 0, 1, 0])\n",
    "predicted_labels = np.array([1, 1, 1, 1, 0, 0, 1, 0, 1, 0])\n",
    "\n",
    "\n",
    "manual_accuracy = accuracy(true_labels, predicted_labels)\n",
    "manual_precision = precision(true_labels, predicted_labels)\n",
    "manual_recall = recall(true_labels, predicted_labels)\n",
    "manual_f1 = f1_score_custom(true_labels, predicted_labels)\n",
    "\n",
    "#metrics with sklearn\n",
    "sklearn_accuracy = accuracy_score(true_labels, predicted_labels)\n",
    "sklearn_precision = precision_score(true_labels, predicted_labels)\n",
    "sklearn_recall = recall_score(true_labels, predicted_labels)\n",
    "sklearn_f1 = f1_score(true_labels, predicted_labels)\n",
    "\n",
    "conf_matrix = confusion_matrix(true_labels, predicted_labels)\n",
    "\n",
    "print(\"Manual Metrics:\")\n",
    "print(f\"Accuracy: {manual_accuracy}\")\n",
    "print(f\"Precision: {manual_precision}\")\n",
    "print(f\"Recall: {manual_recall}\")\n",
    "print(f\"F1 Score: {manual_f1}\")\n",
    "\n",
    "print(\"\\nSklearn Metrics:\")\n",
    "print(f\"Accuracy: {sklearn_accuracy}\")\n",
    "print(f\"Precision: {sklearn_precision}\")\n",
    "print(f\"Recall: {sklearn_recall}\")\n",
    "print(f\"F1 Score: {sklearn_f1}\")\n",
    "\n",
    "print(\"\\nConfusion Matrix:\")\n",
    "print(conf_matrix)\n"
   ]
  },
  {
   "cell_type": "markdown",
   "id": "06e49af9",
   "metadata": {},
   "source": [
    "\n",
    "**2.1 (6 pts) Preprocess the Data**\n",
    "\n",
    "To prepare your data for building a linear regression model, complete the following steps:\n",
    "\n",
    "A.(1 pts) Convert the categorical variables to one-hot encoding using the `pd.get_dummies()` function, how many columns do you have after the one-hot encoding? (P.S. You may want to avoid introducing multicollinearity with one-hot encoding, what should you do to avoid this?)\n"
   ]
  },
  {
   "cell_type": "code",
   "execution_count": 10,
   "id": "8f65013a",
   "metadata": {},
   "outputs": [
    {
     "name": "stdout",
     "output_type": "stream",
     "text": [
      "Number of columns after one-hot encoding: 11\n"
     ]
    }
   ],
   "source": [
    "#TODO\n",
    "df_encoded = pd.get_dummies(df, drop_first=True)  # to avoid multicollinearity\n",
    "\n",
    "print(f\"Number of columns after one-hot encoding: {df_encoded.shape[1]}\")"
   ]
  },
  {
   "cell_type": "markdown",
   "id": "15f24e26",
   "metadata": {},
   "source": [
    "B.(1 pts) Split the data into features (X) and target (y) variables. The target variable is the 'Price' column. Then split the data into train test sets using a 80-20 split. Use `random_state=42` for reproducibility. How many samples are in the training set and how many samples are in the test set?\n"
   ]
  },
  {
   "cell_type": "code",
   "execution_count": 11,
   "id": "9f3ea52d",
   "metadata": {},
   "outputs": [
    {
     "name": "stdout",
     "output_type": "stream",
     "text": [
      "Training samples: 1148\n",
      "Test samples: 288\n"
     ]
    }
   ],
   "source": [
    "#TODO\n",
    "from sklearn.model_selection import train_test_split\n",
    "\n",
    "#features and target variables\n",
    "X = df_encoded.drop(columns=[\"Price\"])  \n",
    "y = df_encoded[\"Price\"]\n",
    "\n",
    "# Split 80-20\n",
    "X_train, X_test, y_train, y_test = train_test_split(X, y, test_size=0.2, random_state=42)\n",
    "\n",
    "print(f\"Training samples: {X_train.shape[0]}\")\n",
    "print(f\"Test samples: {X_test.shape[0]}\")"
   ]
  },
  {
   "cell_type": "markdown",
   "id": "f6992805",
   "metadata": {},
   "source": [
    "C.(1 pts) Why do we split the data into only train-test sets but not train-validation-test sets? "
   ]
  },
  {
   "cell_type": "markdown",
   "id": "038285f4",
   "metadata": {},
   "source": [
    "Your Response:\n",
    "\n",
    "Validation sets are typically used for hyperparameter tuning. Unlike model parameters, which are learned during training, hyperparameters are specified by the practitioner.\n",
    "For standard linear regression, there are no hyperparameters to tune"
   ]
  },
  {
   "cell_type": "markdown",
   "id": "fe1b8bdf",
   "metadata": {},
   "source": [
    "D.(1 pts) **Standardize the Features**: Use `StandardScaler` from `sklearn.preprocessing` and then add a constant column using `sm.add_constant()`. Print the average and standard deviation of the training set after standardization."
   ]
  },
  {
   "cell_type": "code",
   "execution_count": 12,
   "id": "0743e6d6",
   "metadata": {},
   "outputs": [
    {
     "name": "stdout",
     "output_type": "stream",
     "text": [
      "Average: const              1.000000e+00\n",
      "Age               -4.951517e-17\n",
      "Mileage            6.189397e-18\n",
      "HP                -2.444812e-16\n",
      "MetColor          -2.166289e-17\n",
      "Automatic         -2.630494e-17\n",
      "CC                 2.475759e-17\n",
      "Doors             -3.961214e-16\n",
      "Weight             9.462040e-16\n",
      "FuelType_Diesel   -7.117806e-17\n",
      "FuelType_Petrol   -2.119868e-16\n",
      "dtype: float64\n",
      "Standard: const              0.000000\n",
      "Age                1.000436\n",
      "Mileage            1.000436\n",
      "HP                 1.000436\n",
      "MetColor           1.000436\n",
      "Automatic          1.000436\n",
      "CC                 1.000436\n",
      "Doors              1.000436\n",
      "Weight             1.000436\n",
      "FuelType_Diesel    1.000436\n",
      "FuelType_Petrol    1.000436\n",
      "dtype: float64\n",
      "Overall Mean: const              1.000000e+00\n",
      "Age               -4.951517e-17\n",
      "Mileage            6.189397e-18\n",
      "HP                -2.444812e-16\n",
      "MetColor          -2.166289e-17\n",
      "Automatic         -2.630494e-17\n",
      "CC                 2.475759e-17\n",
      "Doors             -3.961214e-16\n",
      "Weight             9.462040e-16\n",
      "FuelType_Diesel   -7.117806e-17\n",
      "FuelType_Petrol   -2.119868e-16\n",
      "dtype: float64\n",
      "Overall Standard Deviation: const              0.000000\n",
      "Age                1.000436\n",
      "Mileage            1.000436\n",
      "HP                 1.000436\n",
      "MetColor           1.000436\n",
      "Automatic          1.000436\n",
      "CC                 1.000436\n",
      "Doors              1.000436\n",
      "Weight             1.000436\n",
      "FuelType_Diesel    1.000436\n",
      "FuelType_Petrol    1.000436\n",
      "dtype: float64\n"
     ]
    }
   ],
   "source": [
    "#TODO\n",
    "from sklearn.preprocessing import StandardScaler\n",
    "import statsmodels.api as sm\n",
    "\n",
    "#print(X_train.isna().sum())\n",
    "X_train.fillna(X_train.mean(), inplace=True)\n",
    "\n",
    "scaler = StandardScaler()\n",
    "\n",
    "# Fit and transform while preserving column names\n",
    "X_train_scaled = pd.DataFrame(scaler.fit_transform(X_train), columns=X_train.columns, index=X_train.index)\n",
    "X_test_scaled = pd.DataFrame(scaler.transform(X_test), columns=X_test.columns, index=X_test.index)\n",
    "\n",
    "# Add constant column\n",
    "X_train_scaled = sm.add_constant(X_train_scaled)\n",
    "X_test_scaled = sm.add_constant(X_test_scaled)\n",
    "\n",
    "# Ensure y_train and X_train_scaled have aligned indices\n",
    "y_train = y_train.loc[X_train_scaled.index]\n",
    "\n",
    "\n",
    "print(f\"Average: {X_train_scaled.mean(axis=0)}\")\n",
    "print(f\"Standard: {X_train_scaled.std(axis=0)}\")\n",
    "\n",
    "print(f\"Overall Mean: {X_train_scaled.mean()}\")\n",
    "print(f\"Overall Standard Deviation: {X_train_scaled.std()}\")"
   ]
  },
  {
   "cell_type": "markdown",
   "id": "ebec9402",
   "metadata": {},
   "source": [
    "E.(2 pts) Should we first standardize the data and then split it into train and test sets or vice versa?   why?"
   ]
  },
  {
   "cell_type": "markdown",
   "id": "49dfe2b6",
   "metadata": {},
   "source": [
    "Your Response:\n",
    "\n",
    "The recommended approach is to normalize the data after splitting it into training and testing sets. To prevent any information leakage from the testing set into the training set, which can lead to over-optimistic results and unrealistic performance evaluations."
   ]
  },
  {
   "cell_type": "markdown",
   "id": "012c220d",
   "metadata": {},
   "source": [
    "**2.2 (10 pts) Train and Evaluate the Linear Regression Model**\n",
    "\n",
    "To train a linear regression model using and evaluate its performance, follow these steps:\n",
    "\n",
    "1. (2 pts) Train a linear regression model on the training dataset using `sm.OLS` from `statsmodels`, print the summary of the model using `model.summary()`.\n"
   ]
  },
  {
   "cell_type": "code",
   "execution_count": 13,
   "id": "0f4b338d",
   "metadata": {},
   "outputs": [
    {
     "name": "stdout",
     "output_type": "stream",
     "text": [
      "                            OLS Regression Results                            \n",
      "==============================================================================\n",
      "Dep. Variable:                  Price   R-squared:                       0.854\n",
      "Model:                            OLS   Adj. R-squared:                  0.853\n",
      "Method:                 Least Squares   F-statistic:                     665.6\n",
      "Date:                Fri, 14 Feb 2025   Prob (F-statistic):               0.00\n",
      "Time:                        12:43:35   Log-Likelihood:                -9838.3\n",
      "No. Observations:                1148   AIC:                         1.970e+04\n",
      "Df Residuals:                    1137   BIC:                         1.975e+04\n",
      "Df Model:                          10                                         \n",
      "Covariance Type:            nonrobust                                         \n",
      "===================================================================================\n",
      "                      coef    std err          t      P>|t|      [0.025      0.975]\n",
      "-----------------------------------------------------------------------------------\n",
      "const            9917.4739     37.823    262.206      0.000    9843.263    9991.685\n",
      "Age             -2076.6435     53.224    -39.017      0.000   -2181.073   -1972.214\n",
      "Mileage          -523.6033     53.830     -9.727      0.000    -629.221    -417.986\n",
      "HP                527.8626     96.398      5.476      0.000     338.725     717.000\n",
      "MetColor           12.3163     38.156      0.323      0.747     -62.548      87.180\n",
      "Automatic         -20.4461     39.825     -0.513      0.608     -98.584      57.692\n",
      "CC               -482.7043    114.044     -4.233      0.000    -706.465    -258.944\n",
      "Doors             -46.4035     41.768     -1.111      0.267    -128.354      35.547\n",
      "Weight           1148.3766     74.687     15.376      0.000    1001.836    1294.917\n",
      "FuelType_Diesel   504.5298    175.541      2.874      0.004     160.109     848.951\n",
      "FuelType_Petrol   391.8687    109.189      3.589      0.000     177.634     606.103\n",
      "==============================================================================\n",
      "Omnibus:                      159.108   Durbin-Watson:                   2.044\n",
      "Prob(Omnibus):                  0.000   Jarque-Bera (JB):             1806.493\n",
      "Skew:                          -0.136   Prob(JB):                         0.00\n",
      "Kurtosis:                       9.139   Cond. No.                         10.8\n",
      "==============================================================================\n",
      "\n",
      "Notes:\n",
      "[1] Standard Errors assume that the covariance matrix of the errors is correctly specified.\n"
     ]
    }
   ],
   "source": [
    "#TODO\n",
    "\n",
    "model = sm.OLS(y_train, X_train_scaled).fit()\n",
    "\n",
    "print(model.summary())"
   ]
  },
  {
   "cell_type": "markdown",
   "id": "d5e4bdce",
   "metadata": {},
   "source": [
    "2. (2 pts) Evaluate the model on the test dataset using the square root of the mean squared error (RMSE) metric. \n",
    "   1. Report the RMSE value.\n",
    "   2. Your boss wants to know how far off the model's predictions are from the actual price of the car. What would you tell him? Given a number and explain how you got it.\n"
   ]
  },
  {
   "cell_type": "code",
   "execution_count": 14,
   "id": "7936208b",
   "metadata": {},
   "outputs": [
    {
     "name": "stdout",
     "output_type": "stream",
     "text": [
      "RMSE: 1468.3928032988117\n"
     ]
    }
   ],
   "source": [
    "#TODO\n",
    "from sklearn.metrics import mean_squared_error\n",
    "\n",
    "y_pred = model.predict(X_test_scaled)\n",
    "\n",
    "rmse = np.sqrt(mean_squared_error(y_test, y_pred))\n",
    "\n",
    "print(f\"RMSE: {rmse}\")"
   ]
  },
  {
   "cell_type": "markdown",
   "id": "92955c02",
   "metadata": {},
   "source": [
    "Your Response:\n",
    "\n",
    "RMSE is 1468.39. This means that, on average, the predicted car prices deviate from the actual prices by around 1468.39 euros. \n",
    "\n"
   ]
  },
  {
   "cell_type": "markdown",
   "id": "39a1de71",
   "metadata": {},
   "source": [
    "3. (2 pts) Report the R² score on the test dataset and interpret it.\n"
   ]
  },
  {
   "cell_type": "code",
   "execution_count": 15,
   "id": "a1a4355f",
   "metadata": {},
   "outputs": [
    {
     "name": "stdout",
     "output_type": "stream",
     "text": [
      "R² Score: 0.8216810971174678\n"
     ]
    }
   ],
   "source": [
    "#TODO\n",
    "from sklearn.metrics import mean_squared_error, r2_score\n",
    "\n",
    "y_pred = model.predict(X_test_scaled)\n",
    "R2 = r2_score(y_test, y_pred)\n",
    "print(f\"R² Score: {R2}\")"
   ]
  },
  {
   "cell_type": "markdown",
   "id": "4fe57aee",
   "metadata": {},
   "source": [
    "Your Response:\n",
    "\n",
    "The model captures a significant portion of the variation in the car prices, but there is still about 18% of variance that is not explained by the features."
   ]
  },
  {
   "cell_type": "markdown",
   "id": "d9191203",
   "metadata": {},
   "source": [
    "4.  (2 pts) Which features are statistically significant at a 5% significance level? "
   ]
  },
  {
   "cell_type": "code",
   "execution_count": 16,
   "id": "782d34e6",
   "metadata": {},
   "outputs": [
    {
     "name": "stdout",
     "output_type": "stream",
     "text": [
      "Statistically significant 5% level: ['const', 'Age', 'Mileage', 'HP', 'CC', 'Weight', 'FuelType_Diesel', 'FuelType_Petrol']\n",
      "Top 2 features with highest coefficients: ['Age', 'Weight']\n",
      "Top 4 features with highest coefficients: ['Age', 'Weight', 'HP', 'Mileage']\n"
     ]
    }
   ],
   "source": [
    "#TODO\n",
    "significant_features = model.pvalues[model.pvalues < 0.05].index\n",
    "print(f\"Statistically significant 5% level: {significant_features.tolist()}\")\n",
    "\n",
    "\n",
    "sorted_coefficients = model.params.abs().sort_values(ascending=False)\n",
    "top_two_features = sorted_coefficients.index[1:3] \n",
    "print(f\"Top 2 features with highest coefficients: {top_two_features.tolist()}\")\n",
    "top_four_features = sorted_coefficients.index[1:5] \n",
    "print(f\"Top 4 features with highest coefficients: {top_four_features.tolist()}\")"
   ]
  },
  {
   "cell_type": "markdown",
   "id": "8eff41e0",
   "metadata": {},
   "source": [
    "5.  (2 pts) Determine which two feature have the highest coefficient? What does it imply?"
   ]
  },
  {
   "cell_type": "markdown",
   "id": "7dd51a86",
   "metadata": {},
   "source": [
    "Your Response:\n",
    "\n",
    "Age and Weight have the strongest impact on the target variable.So a unit change in these features results in the largest change in the predicted car price, compared to other features."
   ]
  },
  {
   "cell_type": "markdown",
   "id": "9af624b8",
   "metadata": {},
   "source": [
    "**2.3 (2 pts): Improvement Discussion**\n",
    "\n",
    "- Suggest a few additional features that could potentially explain this remaining variance in the data ( at least 2 features)."
   ]
  },
  {
   "cell_type": "markdown",
   "id": "81d36c87",
   "metadata": {},
   "source": [
    "Your Response:\n",
    "\n",
    "Weight (1148.38)\n",
    "Heavier vehicles, such as SUVs and trucks, tend to be more expensive.\n",
    "The strong positive coefficient suggests that weight is an important predictor of car price.\n",
    "\n",
    "Horsepower (HP) (527.86)\n",
    "Cars with higher horsepower are generally more valuable. \n",
    "The positive coefficient confirms that powerful engines increase car price."
   ]
  },
  {
   "cell_type": "markdown",
   "id": "94ca03f3",
   "metadata": {},
   "source": [
    "**2.4 (2 pts): Identifying Confounding Variables**\n",
    "\n",
    "The feature \"Weight\" shows a very low p-value and a high coefficient, but it doesn't seem to be a major factor for customers buying a second-hand car. You go to your mentor Jerasimosu to discuss this issue. Indeed, Jerasimosu suggests that never in his career has he seen a customer who asked for the weight of a car before buying it.\n",
    "You suspect that there might be a confounding variable that is correlated with the car's weight and significantly influences its price.\n",
    "\n",
    "- Suggest a possible confounding variable that may be correlated with the car's weight and significantly influence its price (it doesn't need to be a variable in the dataset). Explain why this variable could be a confounding variable."
   ]
  },
  {
   "cell_type": "markdown",
   "id": "c677c957",
   "metadata": {},
   "source": [
    "Your Response:\n",
    "\n",
    "Weight and fuel consumption are highly correlated and fuel consumption could be a confounding variable affecting car price. Other option could be the type of vehicle, since heavier vehicles, such as SUVs and trucks, tend to be more expensive."
   ]
  },
  {
   "cell_type": "markdown",
   "id": "0c2854b8",
   "metadata": {},
   "source": [
    "**2.5 (2 pts): Adding an Inverse Mileage Term**\n",
    "\n",
    "From the previous scatter plot, the relationship between car price and mileage appears non-linear, with a steep price drop initially and then a flattening. A suitable approach to model this behavior is by incorporating an inverse term of mileage.\n",
    "\n",
    "- Add the inverse mileage term to the model and retrain it using the code provided. Print the model summary and interpret the effect of the inverse mileage term."
   ]
  },
  {
   "cell_type": "code",
   "execution_count": 17,
   "id": "8a4b261e",
   "metadata": {},
   "outputs": [
    {
     "name": "stdout",
     "output_type": "stream",
     "text": [
      "                            OLS Regression Results                            \n",
      "==============================================================================\n",
      "Dep. Variable:                  Price   R-squared:                       0.854\n",
      "Model:                            OLS   Adj. R-squared:                  0.853\n",
      "Method:                 Least Squares   F-statistic:                     606.3\n",
      "Date:                Fri, 14 Feb 2025   Prob (F-statistic):               0.00\n",
      "Time:                        12:43:35   Log-Likelihood:                -9836.8\n",
      "No. Observations:                1148   AIC:                         1.970e+04\n",
      "Df Residuals:                    1136   BIC:                         1.976e+04\n",
      "Df Model:                          11                                         \n",
      "Covariance Type:            nonrobust                                         \n",
      "===================================================================================\n",
      "                      coef    std err          t      P>|t|      [0.025      0.975]\n",
      "-----------------------------------------------------------------------------------\n",
      "const            9917.4739     37.791    262.429      0.000    9843.326    9991.622\n",
      "Age             -2079.6933     53.209    -39.085      0.000   -2184.092   -1975.294\n",
      "Mileage          -531.1543     53.965     -9.843      0.000    -637.036    -425.273\n",
      "HP                524.6782     96.334      5.446      0.000     335.666     713.690\n",
      "MetColor           13.1362     38.126      0.345      0.731     -61.670      87.942\n",
      "Automatic         -23.1247     39.822     -0.581      0.562    -101.257      55.007\n",
      "CC               -482.8306    113.947     -4.237      0.000    -706.401    -259.260\n",
      "Doors             -49.3648     41.768     -1.182      0.238    -131.316      32.587\n",
      "Weight           1159.2075     74.891     15.479      0.000    1012.267    1306.148\n",
      "FuelType_Diesel   502.0419    175.398      2.862      0.004     157.901     846.182\n",
      "FuelType_Petrol   391.5439    109.096      3.589      0.000     177.491     605.597\n",
      "Inverse_Mileage   -66.2606     38.672     -1.713      0.087    -142.137       9.616\n",
      "==============================================================================\n",
      "Omnibus:                      152.804   Durbin-Watson:                   2.042\n",
      "Prob(Omnibus):                  0.000   Jarque-Bera (JB):             1671.338\n",
      "Skew:                          -0.086   Prob(JB):                         0.00\n",
      "Kurtosis:                       8.909   Cond. No.                         10.8\n",
      "==============================================================================\n",
      "\n",
      "Notes:\n",
      "[1] Standard Errors assume that the covariance matrix of the errors is correctly specified.\n"
     ]
    }
   ],
   "source": [
    "#TODO\n",
    "\n",
    "X_train.fillna(X_train.mean(), inplace=True)\n",
    "\n",
    "X_train[\"Inverse_Mileage\"] = 1 / (X_train[\"Mileage\"] )\n",
    "X_test[\"Inverse_Mileage\"] = 1 / (X_test[\"Mileage\"] )\n",
    "\n",
    "scaler = StandardScaler()\n",
    "\n",
    "X_train_scaled = pd.DataFrame(scaler.fit_transform(X_train), columns=X_train.columns, index=X_train.index)\n",
    "X_test_scaled = pd.DataFrame(scaler.transform(X_test), columns=X_test.columns, index=X_test.index)\n",
    "\n",
    "X_train_scaled = sm.add_constant(X_train_scaled)\n",
    "X_test_scaled = sm.add_constant(X_test_scaled)\n",
    "\n",
    "y_train = y_train.loc[X_train_scaled.index]\n",
    "\n",
    "model_with_inverse_mileage = sm.OLS(y_train, X_train_scaled).fit()\n",
    "\n",
    "print(model_with_inverse_mileage.summary())"
   ]
  },
  {
   "cell_type": "markdown",
   "id": "90ee1be9",
   "metadata": {},
   "source": [
    "Before adding the inverse mileage term, the coefficient for Mileage was around -500, meaning that for every additional unit increase in mileage, the car price dropped significantly.After introducing 1/Mileage, the new coefficient is -60, which means that the impact of mileage on price has decreased in magnitude, so there is a non-linear effect of mileage, where depreciation is steeper at lower mileage values and flattens at higher mileage values. "
   ]
  },
  {
   "cell_type": "markdown",
   "id": "1a3c61dc",
   "metadata": {},
   "source": [
    "## Part 3 Supervised Learning (40 pts)\n",
    "\n",
    "\n",
    "After completing your analysis, you're satisfied with the results. You handed the Jupyter notebook over to your mentor.\n",
    "\n",
    "(Fun fact: The name \"Jupyter\" is derived from Julia, Python, and R—three programming languages that the platform was originally designed for.)\n",
    "\n",
    "Your mentor Jerasimosu is very impressed with your work and asks you the following question:\n",
    "\n",
    "“\n",
    "This looks great! It will be very useful for our sales team. While looking at the results, I realized that there might be one thing that we can improve. \n",
    "For companies like us, it is important to sell the cars quickly. If we are patient, we might be able to sell the car for a higher price, but that’s not always the best strategy. We need to consider the maintenance costs for the car, the cash flow and the fact that the price of the car decreases over time.\"\n",
    "\n",
    "He then continues:\n",
    "\"Three months is a sweet spot for us. If we can sell the car within the first three months, it is great. If not, it is worth considering lowering the price to sell it faster and increase our cash flow. I can ask Ivan from Sales to collect data in the last few months on whether the car was sold within the first three months or not. This would be great if you could have a model that tells us if the car will be sold in the first three months or not. \"\n",
    "\n",
    "This sparks your interest, and soon Ivan has provided you with the new data containing an additional column `sold_within_3_months` which is a binary variable indicating whether the car was sold within the first three months or not.\n",
    "\n",
    "Note: The data for this part is in the file `Task3.ToyotaCorolla_sales_3months.csv` and it has already unified the currency and distance units."
   ]
  },
  {
   "cell_type": "code",
   "execution_count": 18,
   "id": "5371de93",
   "metadata": {},
   "outputs": [
    {
     "name": "stdout",
     "output_type": "stream",
     "text": [
      "   Price  Age     KM FuelType  HP  MetColor  Automatic    CC  Doors  Weight  \\\n",
      "0  13500   23  46986   Diesel  90         1          0  2000      3    1165   \n",
      "1  13750   23  72937   Diesel  90         1          0  2000      3    1165   \n",
      "2  13950   24  41711   Diesel  90         1          0  2000      3    1165   \n",
      "3  14950   26  48000   Diesel  90         0          0  2000      3    1165   \n",
      "4  13750   30  38500   Diesel  90         0          0  2000      3    1170   \n",
      "\n",
      "   sold_within_3_months  \n",
      "0                     0  \n",
      "1                     0  \n",
      "2                     0  \n",
      "3                     0  \n",
      "4                     0  \n"
     ]
    }
   ],
   "source": [
    "data_df = pd.read_csv('data/Task3.ToyotaCorolla_sales_3months.csv', index_col=0)\n",
    "print(data_df.head())"
   ]
  },
  {
   "cell_type": "markdown",
   "id": "87af3424",
   "metadata": {},
   "source": [
    "\n",
    "**3.1 (2 pts): Preprocess the Data**\n",
    "- （1 pts）How many cars in the dataset were sold in the first three months, and how many were not? "
   ]
  },
  {
   "cell_type": "code",
   "execution_count": 32,
   "id": "714cefb1",
   "metadata": {},
   "outputs": [
    {
     "name": "stdout",
     "output_type": "stream",
     "text": [
      "Cars not sold within 3 months: 556\n",
      "Cars sold within 3 months: 880\n"
     ]
    }
   ],
   "source": [
    "#TODO\n",
    "\n",
    "# Count the occurrences of each unique value in the column\n",
    "sales_counts = data_df['sold_within_3_months'].value_counts()\n",
    "\n",
    "# Display the counts\n",
    "print(\"Cars not sold within 3 months:\", sales_counts[0])\n",
    "print(\"Cars sold within 3 months:\", sales_counts[1])\n"
   ]
  },
  {
   "cell_type": "markdown",
   "id": "eb49dc91",
   "metadata": {},
   "source": [
    "- (1 pts) Preprocess the categorical variables to one-hot encoding using the `pd.get_dummies()` function."
   ]
  },
  {
   "cell_type": "code",
   "execution_count": 36,
   "id": "12fbf1d1",
   "metadata": {},
   "outputs": [
    {
     "name": "stdout",
     "output_type": "stream",
     "text": [
      "Price                    int64\n",
      "Age                      int64\n",
      "KM                       int64\n",
      "FuelType                object\n",
      "HP                       int64\n",
      "MetColor                 int64\n",
      "Automatic                int64\n",
      "CC                       int64\n",
      "Doors                    int64\n",
      "Weight                   int64\n",
      "sold_within_3_months     int64\n",
      "dtype: object\n"
     ]
    }
   ],
   "source": [
    "# Check data types\n",
    "print(data_df.dtypes)"
   ]
  },
  {
   "cell_type": "code",
   "execution_count": null,
   "id": "e9ca7824",
   "metadata": {},
   "outputs": [],
   "source": [
    "#TODO\n",
    "\n",
    "#Since fuelType is of type object and not int it is our categorical column\n",
    "categorical_columns = ['FuelType']\n",
    "\n",
    "# Apply one-hot encoding \n",
    "data_encoded = pd.get_dummies(data_df, columns=categorical_columns, drop_first=True)\n",
    "\n",
    "\n"
   ]
  },
  {
   "cell_type": "markdown",
   "id": "1449cf1c",
   "metadata": {},
   "source": [
    "**3.2 (20 pts):  Logistic Regression Model**\n",
    "1. (2 pts) Split the data into features (X) and target (y) variables. The target variable is the 'sold_within_3_months' column. The `Price` column should be included as a feature."
   ]
  },
  {
   "cell_type": "code",
   "execution_count": 55,
   "id": "bda17a69",
   "metadata": {},
   "outputs": [],
   "source": [
    "#TODO\n",
    "\n",
    "# Define the target variable\n",
    "y = data_df['sold_within_3_months']\n",
    "\n",
    "# Define the features (include all columns except the target)\n",
    "#Since we are only dropping the target column, Price remains in the features. \n",
    "X = pd.get_dummies(X, drop_first=True)"
   ]
  },
  {
   "cell_type": "markdown",
   "id": "28393827",
   "metadata": {},
   "source": [
    "2. (2 pts) Then split the data into train test sets using a 80-20 split. Use `random_state=42` for reproducibility. "
   ]
  },
  {
   "cell_type": "code",
   "execution_count": 56,
   "id": "7416161f",
   "metadata": {},
   "outputs": [],
   "source": [
    "#TODO\n",
    "# Split the data with 80-20 split and random_state for reproducibility\n",
    "X_train, X_test, y_train, y_test = train_test_split(X, y, test_size=0.2, random_state=42)\n"
   ]
  },
  {
   "cell_type": "markdown",
   "id": "d43f0fbf",
   "metadata": {},
   "source": [
    "3. (2 pts) Standardize the features using `StandardScaler` from `sklearn.preprocessing` and then add a constant column using `sm.add_constant()`."
   ]
  },
  {
   "cell_type": "code",
   "execution_count": null,
   "id": "16bfc69e",
   "metadata": {},
   "outputs": [],
   "source": [
    "#TODO\n",
    "scaler = StandardScaler()\n",
    "\n",
    "# Fit and transform\n",
    "X_train_scaled = scaler.fit_transform(X_train)\n",
    "\n",
    "X_test_scaled = scaler.transform(X_test)\n",
    "\n",
    "# Add a constant column \n",
    "X_train_scaled = sm.add_constant(X_train_scaled)\n",
    "\n",
    "X_test_scaled = sm.add_constant(X_test_scaled)"
   ]
  },
  {
   "cell_type": "markdown",
   "id": "1b7029f6",
   "metadata": {},
   "source": [
    "4. (2 pts) Fit a logistic regression model on the training dataset. Feel free to use either `statsmodels` or `sklearn`."
   ]
  },
  {
   "cell_type": "code",
   "execution_count": null,
   "id": "4d7e52e6",
   "metadata": {},
   "outputs": [
    {
     "name": "stdout",
     "output_type": "stream",
     "text": [
      "Model Coefficients (sklearn): [[-0.03486651 -6.52168167  0.24342084 -0.07222644 -0.47681361  0.10241797\n",
      "  -0.13281652  0.4359013  -0.07845163 -0.07231282 -0.50948356  0.02747141]]\n",
      "Intercept (sklearn): [-0.07939021]\n"
     ]
    }
   ],
   "source": [
    "#TODO\n",
    "\n",
    "# Initialize the logistic regression model\n",
    "log_reg = LogisticRegression()\n",
    "\n",
    "# Fit the model \n",
    "log_reg.fit(X_train_scaled, y_train)\n",
    "\n",
    "# Display the model coefficients\n",
    "print(\"Model Coefficients (sklearn):\", log_reg.coef_)\n",
    "print(\"Intercept (sklearn):\", log_reg.intercept_)\n"
   ]
  },
  {
   "cell_type": "markdown",
   "id": "e0c3b275",
   "metadata": {},
   "source": [
    "5. (2 pts) Evaluate the model on the test dataset using the accuracy score metric. Report the accuracy score."
   ]
  },
  {
   "cell_type": "code",
   "execution_count": null,
   "id": "2152d2dc",
   "metadata": {},
   "outputs": [
    {
     "name": "stdout",
     "output_type": "stream",
     "text": [
      "Accuracy (sklearn): 0.9270833333333334\n"
     ]
    }
   ],
   "source": [
    "#TODO\n",
    "\n",
    "y_pred = log_reg.predict(X_test_scaled)\n",
    "\n",
    "# Calculate the accuracy score\n",
    "accuracy = accuracy_score(y_test, y_pred)\n",
    "print(f\"Accuracy (sklearn): {accuracy}\")"
   ]
  },
  {
   "cell_type": "markdown",
   "id": "07b5d10b",
   "metadata": {},
   "source": [
    "6. (2 pts) Calculate the precision, recall, and F1-score."
   ]
  },
  {
   "cell_type": "code",
   "execution_count": null,
   "id": "93ef377c",
   "metadata": {},
   "outputs": [
    {
     "name": "stdout",
     "output_type": "stream",
     "text": [
      "Precision (sklearn): 0.9273743016759777\n",
      "Recall (sklearn): 0.9540229885057471\n",
      "F1-score (sklearn): 0.9405099150141643\n"
     ]
    }
   ],
   "source": [
    "#TODO\n",
    "\n",
    "# Predict on the test set\n",
    "y_pred = log_reg.predict(X_test_scaled)\n",
    "\n",
    "# precision, recall, and F1-score\n",
    "precision = precision_score(y_test, y_pred)\n",
    "recall = recall_score(y_test, y_pred)\n",
    "f1 = f1_score(y_test, y_pred)\n",
    "\n",
    "print(f\"Precision (sklearn): {precision}\")\n",
    "print(f\"Recall (sklearn): {recall}\")\n",
    "print(f\"F1-score (sklearn): {f1}\")"
   ]
  },
  {
   "cell_type": "markdown",
   "id": "b83bb422",
   "metadata": {},
   "source": [
    "7. (2 pts) Suppose that your company is running short on cash flow and needs to sell the cars quickly, for example by running some offer (special discount on cars). But which ones? How should you adjust the threshold for the decision boundary of the logistic regression model to ensure that the company can sell the cars as quickly as possible?\n",
    "    - A. Increase the threshold\n",
    "    - B. Decrease the threshold\n",
    "\n",
    "In a more general sense, how does the choice of threshold affect the precision and recall of the model?"
   ]
  },
  {
   "cell_type": "markdown",
   "id": "e1951dc8",
   "metadata": {},
   "source": [
    "Your Response:\n",
    "\n",
    "//**//\n",
    "\n",
    "We would decrease the threshold (Option B) \n",
    "\n",
    "By default, the threshold for logistic regression is usually set to 0.5. This means that if the predicted probability of a car being sold is greater than or equal to 0.5, the model predicts the car will be sold. However, in your case, where the company is focused on selling the cars quickly, the goal is to predict more cars as being sold. To achieve this, you would decrease the threshold, which allows the model to classify more cars as \"sold,\" even if their predicted probability is lower than 0.5. This increases the number of sold, helping the company move inventory more rapidly."
   ]
  },
  {
   "cell_type": "markdown",
   "id": "f77a1414",
   "metadata": {},
   "source": [
    "8. (6 pts) Try to find the optimal threshold that maximizes the F1-score. Implement any kind of method you see fit (e.g. binary search or grid search). What is the optimal threshold and what difference does the optimal threshold make in the F1-score?\n",
    "\n",
    "If you notice anything odd, report it and try to identify the reasons behind it."
   ]
  },
  {
   "cell_type": "markdown",
   "id": "5bacabff",
   "metadata": {},
   "source": [
    "To find the optimal threshold that maximizes the F1-score, we can test multiple thresholds and compute the F1-score for each one. The idea is to iterate over different thresholds (e.g., from 0 to 1) and calculate the F1-score for each threshold to find the value that maximizes it.\n",
    "\n",
    "We can implement this using a grid search or iterative approach. I'll show you the approach step-by-step:"
   ]
  },
  {
   "cell_type": "code",
   "execution_count": 80,
   "id": "ecc90348",
   "metadata": {
    "scrolled": true
   },
   "outputs": [
    {
     "name": "stdout",
     "output_type": "stream",
     "text": [
      "Optimal Threshold: 0.44\n",
      "F1-score at optimal threshold: 0.949438202247191\n",
      "F1-score at default threshold (0.5): 0.9405099150141643\n"
     ]
    }
   ],
   "source": [
    "# Predict probabilities on the test set using the model (sklearn version)\n",
    "y_pred_prob = log_reg.predict_proba(X_test_scaled)[:, 1]  \n",
    "\n",
    "# Create an array of possible thresholds\n",
    "thresholds = np.arange(0.0, 1.0, 0.01)\n",
    "\n",
    "optimal_threshold = 0\n",
    "max_f1 = 0\n",
    "\n",
    "# Loop over the thresholds and calculate the F1-score for each\n",
    "for threshold in thresholds:\n",
    "    y_pred_binary = (y_pred_prob >= threshold).astype(int)  # Convert probabilities to binary predictions\n",
    "    f1 = f1_score(y_test, y_pred_binary)\n",
    "    \n",
    "    # If the current F1-score is the highest, update the optimal threshold and F1-score\n",
    "    if f1 > max_f1:\n",
    "        max_f1 = f1\n",
    "        optimal_threshold = threshold\n",
    "\n",
    "# Report the results\n",
    "print(f\"Optimal Threshold: {optimal_threshold}\")\n",
    "print(f\"F1-score at optimal threshold: {max_f1}\")\n",
    "\n",
    "# F1-score at the default threshold (0.5)\n",
    "y_pred_default = (y_pred_prob >= 0.5).astype(int)\n",
    "f1_default = f1_score(y_test, y_pred_default)\n",
    "print(f\"F1-score at default threshold (0.5): {f1_default}\")"
   ]
  },
  {
   "cell_type": "markdown",
   "id": "53796e48",
   "metadata": {},
   "source": [
    "**3.3(23 pts) Free model exploration**\n",
    "\n",
    "Use any model from `sklearn` to predict whether a car will be sold within the first three months.\n",
    "\n",
    "Follow these steps to complete the task:\n",
    "\n",
    "1. (2 pts) Train your own classifier model to predict the target variable (`sold_within_3_months`).You can reuse the train and test sets from the previous section. Set `random_state=42` for reproducibility if needed. At this stage no need to optimize (yet). That will come at step 4."
   ]
  },
  {
   "cell_type": "code",
   "execution_count": 79,
   "id": "847d2270",
   "metadata": {},
   "outputs": [
    {
     "name": "stdout",
     "output_type": "stream",
     "text": [
      "Accuracy of Random Forest Classifier: 0.9236111111111112\n"
     ]
    }
   ],
   "source": [
    "#TODO\n",
    "from sklearn.ensemble import RandomForestClassifier\n",
    "# Initialize the Random Forest Classifier\n",
    "rf_model = RandomForestClassifier(random_state=42)\n",
    "\n",
    "# Train the model on the training data\n",
    "rf_model.fit(X_train_scaled, y_train)\n",
    "\n",
    "# Predict on the test data\n",
    "y_pred_rf = rf_model.predict(X_test_scaled)\n",
    "\n",
    "# Check the model's accuracy\n",
    "accuracy_rf = accuracy_score(y_test, y_pred_rf)\n",
    "print(f\"Accuracy of Random Forest Classifier: {accuracy_rf}\")"
   ]
  },
  {
   "cell_type": "markdown",
   "id": "339e84a7",
   "metadata": {},
   "source": [
    "2. (2 pts) Evaluate the model on the test set and report on hyperparameters or other details of the algorithm you chose."
   ]
  },
  {
   "cell_type": "code",
   "execution_count": 78,
   "id": "f91de524",
   "metadata": {},
   "outputs": [
    {
     "name": "stdout",
     "output_type": "stream",
     "text": [
      "Accuracy: 0.9236111111111112\n",
      "Precision: 0.9222222222222223\n",
      "Recall: 0.9540229885057471\n",
      "F1-score: 0.9378531073446328\n",
      "\n",
      "Random Forest Hyperparameters:\n",
      "{'bootstrap': True, 'ccp_alpha': 0.0, 'class_weight': None, 'criterion': 'gini', 'max_depth': None, 'max_features': 'sqrt', 'max_leaf_nodes': None, 'max_samples': None, 'min_impurity_decrease': 0.0, 'min_samples_leaf': 1, 'min_samples_split': 2, 'min_weight_fraction_leaf': 0.0, 'monotonic_cst': None, 'n_estimators': 100, 'n_jobs': None, 'oob_score': False, 'random_state': 42, 'verbose': 0, 'warm_start': False}\n"
     ]
    }
   ],
   "source": [
    "#TODO\n",
    "\n",
    "# Calculate the evaluation metrics\n",
    "accuracy_rf = accuracy_score(y_test, y_pred_rf)\n",
    "precision_rf = precision_score(y_test, y_pred_rf)\n",
    "recall_rf = recall_score(y_test, y_pred_rf)\n",
    "f1_rf = f1_score(y_test, y_pred_rf)\n",
    "\n",
    "# Print the evaluation metrics\n",
    "print(f\"Accuracy: {accuracy_rf}\")\n",
    "print(f\"Precision: {precision_rf}\")\n",
    "print(f\"Recall: {recall_rf}\")\n",
    "print(f\"F1-score: {f1_rf}\")\n",
    "\n",
    "# Report the hyperparameters of the Random Forest model\n",
    "print(\"\\nRandom Forest Hyperparameters:\")\n",
    "print(rf_model.get_params())\n"
   ]
  },
  {
   "cell_type": "markdown",
   "id": "aeacddbc",
   "metadata": {},
   "source": [
    "3. (2 pts) Come up with a visualization (could be related to the model or to some variables (e.g. EDA plots) to demonstrate the difficulty (or not) of the problem. "
   ]
  },
  {
   "cell_type": "code",
   "execution_count": 75,
   "id": "3899ce00",
   "metadata": {},
   "outputs": [
    {
     "data": {
      "image/png": "[encoded data removed]",
      "text/plain": [
       "<Figure size 1400x600 with 2 Axes>"
      ]
     },
     "metadata": {},
     "output_type": "display_data"
    }
   ],
   "source": [
    "#TODO\n",
    "\n",
    "# Plot the distribution of Price and Age \n",
    "fig, axes = plt.subplots(1, 2, figsize=(14, 6))\n",
    "\n",
    "# Plot Price\n",
    "sns.boxplot(x='sold_within_3_months', y='Price', data=data_df, ax=axes[0])\n",
    "axes[0].set_title('Price Distribution by Sale Status')\n",
    "\n",
    "# Plot Age \n",
    "sns.boxplot(x='sold_within_3_months', y='Age', data=data_df, ax=axes[1])\n",
    "axes[1].set_title('Age Distribution by Sale Status')\n",
    "\n",
    "\n",
    "plt.show()\n"
   ]
  },
  {
   "cell_type": "markdown",
   "id": "294f27b0",
   "metadata": {},
   "source": [
    "4. (17 pts) Try to come up with a model that improves the results both in the previous seciton but also your baseline model in 3.1. Make to sure to properly evaluate the model. No need to provide a visualization here but feel free to add any supporting evidence to your modeling.\n",
    "\n",
    "Minimally (and for a high-grade) you should consider some form of regularization and proper cross-validation. \n",
    "\n",
    "Other things you can consider (in no particular order) are feature engineering, model robustness, hyperparameter tuning, ..."
   ]
  },
  {
   "cell_type": "code",
   "execution_count": 71,
   "id": "c23ea3be",
   "metadata": {},
   "outputs": [
    {
     "name": "stdout",
     "output_type": "stream",
     "text": [
      "Ridge F1 Score (5-fold CV): 0.9377\n",
      "Lasso F1 Score (5-fold CV): 0.9431\n"
     ]
    }
   ],
   "source": [
    "#TODO\n",
    "from sklearn.model_selection import cross_val_score\n",
    "from sklearn.linear_model import LogisticRegression\n",
    "\n",
    "# Ridge regularization\n",
    "ridge_model = LogisticRegression(penalty='l2', solver='liblinear', random_state=42)\n",
    "ridge_cv_score = cross_val_score(ridge_model, X_train_scaled, y_train, cv=5, scoring='f1')\n",
    "print(f\"Ridge F1 Score (5-fold CV): {ridge_cv_score.mean():.4f}\")\n",
    "\n",
    "# Lasso regularization\n",
    "lasso_model = LogisticRegression(penalty='l1', solver='liblinear', random_state=42)\n",
    "lasso_cv_score = cross_val_score(lasso_model, X_train_scaled, y_train, cv=5, scoring='f1')\n",
    "print(f\"Lasso F1 Score (5-fold CV): {lasso_cv_score.mean():.4f}\")\n",
    "\n"
   ]
  },
  {
   "cell_type": "markdown",
   "id": "a250c25e",
   "metadata": {},
   "source": [
    "We can see the lasso experiemnt improved the F1 score by roughly 0,01. It is not such a big difference but when the accuracy is already high this is an option to improve it a bit."
   ]
  },
  {
   "cell_type": "markdown",
   "id": "89384315",
   "metadata": {},
   "source": [
    "## Part 4 The Aftermath (5 pts)\n",
    "\n",
    "Machine learning models are often evaluated based on accuracy, precision and recall, but these metrics do not always capture fairness. Fairness is a broader concept that depends on the context of the dataset and the decisions influenced by the model.\n",
    "\n",
    "For this last question, you are asked to reflect on what fairness means in the context of this problem. More specifically, identify potential fairness concerns (at least 2) and suggest how they could be measured or mitigated.\n",
    "Explain why fairness matters (or doesn’t) in this specific context.\n",
    "\n",
    "*Hint: Think of the whole pipeline of data science: data collection, modeling, evaluation and identify sources of where the model might be unfair.*\n"
   ]
  },
  {
   "cell_type": "markdown",
   "id": "5cd5ceda",
   "metadata": {},
   "source": [
    "Your Response:\n",
    "\n",
    "//**//"
   ]
  }
 ],
 "metadata": {
  "kernelspec": {
   "display_name": "base",
   "language": "python",
   "name": "python3"
  },
  "language_info": {
   "codemirror_mode": {
    "name": "ipython",
    "version": 3
   },
   "file_extension": ".py",
   "mimetype": "text/x-python",
   "name": "python",
   "nbconvert_exporter": "python",
   "pygments_lexer": "ipython3",
   "version": "3.11.7"
  }
 },
 "nbformat": 4,
 "nbformat_minor": 5
}
